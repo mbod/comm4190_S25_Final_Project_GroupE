{
 "cells": [
  {
   "cell_type": "markdown",
   "id": "49060405-788b-4c9b-b1fa-5de4b1bb6176",
   "metadata": {},
   "source": [
    "# Gradio Code\n",
    "\n",
    "This notebook runs an interactive NBA betting assistant designed to provide personalized picks, strategies, and guidance based on your experience level and goals. To get started, simply enter a username — this creates or resumes your personal betting session. You’ll be asked a few quick questions about your betting experience, bankroll, and objectives. Based on your answers, the assistant will offer tailored recommendations categorized as \"lock,\" \"risk,\" or \"parlay\", with hit probabilities and brief explanations.\n",
    "\n",
    "If you leave the session, just rerun the notebook and enter the same username — the assistant will remember your previous conversation and pick up right where you left off. No need to re-answer onboarding questions unless you want to update your preferences."
   ]
  },
  {
   "cell_type": "code",
   "execution_count": 1,
   "id": "d715aaa8-b7a5-4c36-a5f3-656fc35601fa",
   "metadata": {},
   "outputs": [],
   "source": [
    "# Imports and Environment Setup\n",
    "\n",
    "import os, json, requests, gradio as gr\n",
    "from dotenv import load_dotenv\n",
    "from datetime import datetime\n",
    "from langchain_community.tools.tavily_search import TavilySearchResults\n",
    "from langchain.chat_models import ChatOpenAI\n",
    "from langchain.agents import AgentExecutor, create_openai_functions_agent\n",
    "from langchain.prompts import ChatPromptTemplate, MessagesPlaceholder\n",
    "from langchain_core.messages import AIMessage, HumanMessage\n",
    "from langchain.tools import BaseTool\n",
    "\n",
    "_ = load_dotenv()\n",
    "os.environ[\"ODDS_API_KEY\"] = \"3d27a8fe4087a6cf1696146cc50785af\"\n",
    "os.environ[\"TAVILY_API_KEY\"] = \"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\"\n"
   ]
  },
  {
   "cell_type": "code",
   "execution_count": 2,
   "id": "2e0d631b-a823-4755-aec0-81692023fdf8",
   "metadata": {},
   "outputs": [],
   "source": [
    "# History File Directory Setup\n",
    "\n",
    "HISTORY_DIR = \"/tmp/shared_betting_history\"\n",
    "os.makedirs(HISTORY_DIR, exist_ok=True)\n",
    "\n",
    "try:\n",
    "    os.chmod(HISTORY_DIR, 0o777)\n",
    "except PermissionError:\n",
    "    print(f\"⚠️ Could not change permissions for {HISTORY_DIR}. You may need to set them manually.\")\n"
   ]
  },
  {
   "cell_type": "code",
   "execution_count": 3,
   "id": "e501cf66-47ca-4d38-a774-fbebebecaccf",
   "metadata": {},
   "outputs": [],
   "source": [
    "# User History Load and Save Functions\n",
    "\n",
    "def get_user_history_file(user_id):\n",
    "    return os.path.join(HISTORY_DIR, f\"{user_id}.json\")\n",
    "\n",
    "def load_user_history(user_id):\n",
    "    path = get_user_history_file(user_id)\n",
    "    if os.path.exists(path):\n",
    "        with open(path, \"r\") as f:\n",
    "            data = json.load(f)\n",
    "        return data.get(\"chat_history\", []), data.get(\"agent_scratchpad\", [])\n",
    "    return [], []\n",
    "\n",
    "def save_user_history(user_id, chat_history, agent_scratchpad):\n",
    "    path = get_user_history_file(user_id)\n",
    "    with open(path, \"w\") as f:\n",
    "        json.dump({\n",
    "            \"chat_history\": [m.dict() for m in chat_history],\n",
    "            \"agent_scratchpad\": agent_scratchpad,\n",
    "        }, f, indent=2)\n",
    "    os.chmod(path, 0o666)\n"
   ]
  },
  {
   "cell_type": "code",
   "execution_count": 4,
   "id": "8a8e5b2d-3cbe-4ff7-96a5-d9bafdaf66e6",
   "metadata": {},
   "outputs": [],
   "source": [
    "# NBA Odds Fetcher via The Odds API\n",
    "class NBAOddsTool(BaseTool):\n",
    "    name: str = \"nba_odds_api\"\n",
    "    description: str = (\n",
    "        \"Use this to get current NBA game odds from The Odds API. Input is ignored.\"\n",
    "    )\n",
    "\n",
    "    def _run(self, _: str = \"\") -> str:\n",
    "        api_key = os.getenv(\"ODDS_API_KEY\")\n",
    "        url = (\n",
    "            \"https://api.the-odds-api.com/v4/sports/basketball_nba/odds\"\n",
    "            f\"?apiKey={api_key}&regions=us&markets=h2h,spreads,totals\"\n",
    "        )\n",
    "        resp = requests.get(url, timeout=10)\n",
    "        resp.raise_for_status()\n",
    "        return resp.text\n",
    "\n",
    "    async def _arun(self, _: str):\n",
    "        raise NotImplementedError\n"
   ]
  },
  {
   "cell_type": "code",
   "execution_count": 5,
   "id": "cc983c8f-8e8b-4161-8efd-58312c0740d9",
   "metadata": {},
   "outputs": [],
   "source": [
    "# Tool Setup and System Prompt Definition\n",
    "\n",
    "nba_odds_tool = NBAOddsTool()\n",
    "tavily_tool = TavilySearchResults(k=5, time_period=\"day\")\n",
    "TOOLS = [nba_odds_tool, tavily_tool]\n",
    "\n",
    "today = datetime.today().strftime(\"%B %d, %Y\")\n",
    "SYSTEM_PROMPT = f\"\"\"\n",
    "GOAL:\n",
    "You are a specialized AI assistant designed to function as a sports betting advisor, optimized specifically for NBA basketball betting. Your objective is to guide users by providing strategic betting recommendations categorized clearly as \"lock,\" \"risk,\" or \"parlay,\" while actively adapting to the user's experience level, preferences, and bankroll.\n",
    "\n",
    "TOOLS:\n",
    "1. `nba_odds_api` – Use this to fetch current NBA betting lines (moneyline, spreads, totals, props) as of {today}.\n",
    "2. `tavily_search_results_json` – Use this for fresh injury updates or team performance trends. Limit to results from the last 24 hours.\n",
    "\n",
    "TOOL RULES:\n",
    "• Always call `nba_odds_api` first when you need betting lines, odds, or totals.\n",
    "• Only use `tavily_search_results_json` when looking for player injuries, hot streaks, or momentum narratives — and ignore anything over 24 hours old.\n",
    "• If you present odds, always cite the date of retrieval, e.g., “(odds as of {today})”.\n",
    "• If the odds tool returns nothing or fails, apologize and suggest trying again later.\n",
    "\n",
    "PERSONA:\n",
    "You play the role of a knowledgeable, clear, and supportive sports betting advisor who understands both novice and experienced bettors. You're confident in your recommendations, continuously aiming to improve the user's betting accuracy and profitability over time.\n",
    "\n",
    "NARRATIVE:\n",
    "Upon first interaction, introduce yourself and determine the user's level of betting experience. Then tailor your guidance to suit their level—providing simple explanations for beginners or detailed strategy for experienced users. Reference past user interactions to personalize future advice.\n",
    "\n",
    "DIALOG FLOW:\n",
    "\n",
    "STEP 1: GATHER INFORMATION  \n",
    "You should do this:\n",
    "• Greet the user and clearly state your role as a basketball betting assistant.  \n",
    "• Ask these questions **one at a time**, waiting for responses:  \n",
    "    1. Is this your first time betting, or are you an experienced bettor?  \n",
    "    2. What specific betting goals do you have today (e.g., general strategy, advice on current bets, creating a parlay)?  \n",
    "    3. What is your bankroll (how much money are you looking to bet)?  \n",
    "    4. (If experienced) What specific betting strategies or types of bets (e.g., spreads, totals, player props) do you prefer?\n",
    "\n",
    "• Wait for the user’s response before moving on.  \n",
    "• Clarify their experience and intentions clearly before making recommendations.  \n",
    "• **Do NOT** ask multiple questions at once or offer bets before gathering all required info.\n",
    "\n",
    "STEP 2: BEGIN PROVIDING BETTING ADVICE, ADAPTING TO USER RESPONSES  \n",
    "You should do this:\n",
    "• Use `nba_odds_api` to pull live odds and matchups.  \n",
    "• Use `tavily_search_results_json` only if needed for injury or performance trends.  \n",
    "• Provide recommendations that balance value and risk—use player props, totals, and spreads appropriately.  \n",
    "• Tailor advice based on experience:\n",
    "    - **Beginners** → Use clear language, simple bet types (moneyline, spread), and define terms. If they ask for a parlay, offer a simple, high-EV version.\n",
    "    - **Experienced users** → Ask how many legs they want in a parlay and provide the highest EV parlay for that length. Use more advanced strategy language and ask for preferences.\n",
    "\n",
    "• Categorize each recommendation clearly as **\"lock,\" \"risk,\" or \"parlay\"**.\n",
    "• Include estimated hit probabilities for each bet, with a short explanation.\n",
    "• Put all bet suggestions in the context of their bankroll (e.g., “a $5 bet returns...”).\n",
    "• If the user enters existing bets:\n",
    "    - Analyze their likelihood of success.\n",
    "    - Suggest improvements or alternate bet structures.\n",
    "    - Propose additive bets or parlays to increase expected value.\n",
    "\n",
    "• When users ask for “tonight’s best bets,” give a smart blend of **lock** and **risk** categories with the highest EV.\n",
    "• When suggesting multiple bets, ask the user what mix they want (lock, risk, parlay) before proceeding.\n",
    "• Frequently follow up with open-ended questions to keep users engaged and learning.\n",
    "\n",
    "Don’t do this:\n",
    "• Avoid vague advice or odds with no rationale.  \n",
    "• Never ignore a user's previous betting history or current skill level.\n",
    "\n",
    "STEP 3: ASSESS AND IMPROVE OVER TIME  \n",
    "• Ask repeat users about their previous bets:  \n",
    "   – Which won or lost?  \n",
    "   – Do they want to try a similar strategy again or try something new?  \n",
    "• Adapt your strategy based on that feedback.  \n",
    "• Periodically reassess the user's betting experience and update complexity level accordingly.\n",
    "\n",
    "STEP 4: WRAP UP  \n",
    "• Clearly summarize all bet suggestions at the end of the session.  \n",
    "• Invite the user to return before the next games or whenever lines are updated.\n",
    "\"\"\"\n"
   ]
  },
  {
   "cell_type": "code",
   "execution_count": 6,
   "id": "cc67d47c-54ed-4a5f-bc87-268131861641",
   "metadata": {},
   "outputs": [
    {
     "name": "stderr",
     "output_type": "stream",
     "text": [
      "/tmp/ipykernel_4009234/620665734.py:10: LangChainDeprecationWarning: The class `ChatOpenAI` was deprecated in LangChain 0.0.10 and will be removed in 1.0. An updated version of the class exists in the :class:`~langchain-openai package and should be used instead. To use it run `pip install -U :class:`~langchain-openai` and import as `from :class:`~langchain_openai import ChatOpenAI``.\n",
      "  llm = ChatOpenAI(model=\"gpt-4o\", temperature=0.3)\n",
      "/opt/jupyterhub/share/jupyter/venv/python3-12_comm4190/lib/python3.12/site-packages/pydantic/main.py:1630: RuntimeWarning: fields may not start with an underscore, ignoring \"_\"\n",
      "  warnings.warn(f'fields may not start with an underscore, ignoring \"{f_name}\"', RuntimeWarning)\n",
      "/opt/jupyterhub/share/jupyter/venv/python3-12_comm4190/lib/python3.12/site-packages/pydantic/main.py:1630: RuntimeWarning: fields may not start with an underscore, ignoring \"_\"\n",
      "  warnings.warn(f'fields may not start with an underscore, ignoring \"{f_name}\"', RuntimeWarning)\n",
      "/opt/jupyterhub/share/jupyter/venv/python3-12_comm4190/lib/python3.12/site-packages/pydantic/main.py:1630: RuntimeWarning: fields may not start with an underscore, ignoring \"_\"\n",
      "  warnings.warn(f'fields may not start with an underscore, ignoring \"{f_name}\"', RuntimeWarning)\n",
      "/opt/jupyterhub/share/jupyter/venv/python3-12_comm4190/lib/python3.12/site-packages/pydantic/main.py:1630: RuntimeWarning: fields may not start with an underscore, ignoring \"_\"\n",
      "  warnings.warn(f'fields may not start with an underscore, ignoring \"{f_name}\"', RuntimeWarning)\n"
     ]
    }
   ],
   "source": [
    "# Prompt Template and Agent Setup\n",
    "\n",
    "prompt = ChatPromptTemplate.from_messages([\n",
    "    (\"system\", SYSTEM_PROMPT),\n",
    "    MessagesPlaceholder(\"chat_history\"),\n",
    "    MessagesPlaceholder(\"agent_scratchpad\"),\n",
    "    (\"human\", \"{input}\")\n",
    "])\n",
    "\n",
    "llm = ChatOpenAI(model=\"gpt-4o\", temperature=0.3)\n",
    "agent = create_openai_functions_agent(llm=llm, tools=TOOLS, prompt=prompt)\n",
    "agent_executor = AgentExecutor(agent=agent, tools=TOOLS, verbose=True, handle_parsing_errors=True)\n",
    "\n",
    "session_cache = {}\n"
   ]
  },
  {
   "cell_type": "code",
   "execution_count": 7,
   "id": "bd49751e-b438-4489-8db9-d72b3f2fd06f",
   "metadata": {},
   "outputs": [],
   "source": [
    "# Return User Handling and Welcome Prompt\n",
    "\n",
    "def welcome_user(user_id):\n",
    "    chat, scratchpad = load_user_history(user_id)\n",
    "    if not chat:\n",
    "        return [], [], None\n",
    "\n",
    "    last_msg = next((m[\"content\"] for m in reversed(chat) if m[\"type\"] == \"ai\"), None)\n",
    "    if not last_msg:\n",
    "        return [], [], None\n",
    "\n",
    "    welcome_prompt = (\n",
    "        f\"The user has returned. Their last assistant message was:\\n\\\"{last_msg}\\\"\\n\"\n",
    "        f\"Generate a warm welcome that references this bet and invites them to continue.\"\n",
    "    )\n",
    "    response = llm.invoke(welcome_prompt)\n",
    "    return [HumanMessage(**m) if m[\"type\"] == \"human\" else AIMessage(**m) for m in chat], scratchpad, response.content\n"
   ]
  },
  {
   "cell_type": "code",
   "execution_count": 8,
   "id": "d9a6282c-b3ac-4558-8820-baea8b3c86c0",
   "metadata": {},
   "outputs": [],
   "source": [
    "# Chat Function \n",
    "\n",
    "def chat_fn(message, user_id):\n",
    "    if not user_id:\n",
    "        return \"Please enter your username to continue.\", []\n",
    "\n",
    "    if user_id not in session_cache:\n",
    "        chat_history, scratchpad, welcome = welcome_user(user_id)\n",
    "        display = [(None, welcome)] if welcome else []\n",
    "        session_cache[user_id] = {\n",
    "            \"chat_history\": chat_history,\n",
    "            \"agent_scratchpad\": scratchpad,\n",
    "            \"display\": display\n",
    "        }\n",
    "\n",
    "    session = session_cache[user_id]\n",
    "    session[\"chat_history\"].append(HumanMessage(content=message))\n",
    "\n",
    "    response = agent_executor.invoke({\n",
    "        \"input\": message,\n",
    "        \"chat_history\": session[\"chat_history\"],\n",
    "        \"agent_scratchpad\": session[\"agent_scratchpad\"]\n",
    "    })\n",
    "\n",
    "    session[\"chat_history\"].append(AIMessage(content=response[\"output\"]))\n",
    "    session[\"display\"].append((message, response[\"output\"]))\n",
    "    save_user_history(user_id, session[\"chat_history\"], session[\"agent_scratchpad\"])\n",
    "\n",
    "    return \"\", session[\"display\"]\n"
   ]
  },
  {
   "cell_type": "code",
   "execution_count": 9,
   "id": "a43cebc9-b2fa-46e5-becf-55ff76fd3ebd",
   "metadata": {},
   "outputs": [
    {
     "name": "stderr",
     "output_type": "stream",
     "text": [
      "/opt/jupyterhub/share/jupyter/venv/python3-12_comm4190/lib/python3.12/site-packages/gradio/components/chatbot.py:273: UserWarning: You have not specified a value for the `type` parameter. Defaulting to the 'tuples' format for chatbot messages, but this is deprecated and will be removed in a future version of Gradio. Please set type='messages' instead, which uses openai-style dictionaries with 'role' and 'content' keys.\n",
      "  warnings.warn(\n"
     ]
    }
   ],
   "source": [
    "# Gradio UI Setup and Session Initialization When User Enters a Username\n",
    "\n",
    "with gr.Blocks() as app:\n",
    "    gr.Markdown(\"## 🏀 NBA Betting Assistant\")\n",
    "\n",
    "    user_input = gr.Textbox(label=\"Username\", placeholder=\"e.g. matt24\")\n",
    "    chatbot = gr.Chatbot()\n",
    "    message_input = gr.Textbox(label=\"Message\", placeholder=\"Ask about tonight’s games…\")\n",
    "    send_btn = gr.Button(\"Send\")\n",
    "\n",
    "    def initialize_user(uid):\n",
    "        if uid and uid not in session_cache:\n",
    "            _, _, welcome = welcome_user(uid)\n",
    "            if welcome:\n",
    "                session_cache[uid] = {\n",
    "                    \"chat_history\": [],\n",
    "                    \"agent_scratchpad\": [],\n",
    "                    \"display\": [(None, welcome)]\n",
    "                }\n",
    "                return [(None, welcome)]\n",
    "            else:\n",
    "                session_cache[uid] = {\"chat_history\": [], \"agent_scratchpad\": [], \"display\": []}\n",
    "        return session_cache.get(uid, {}).get(\"display\", [])\n",
    "\n",
    "    user_input.change(initialize_user, inputs=user_input, outputs=chatbot)\n",
    "    send_btn.click(chat_fn, inputs=[message_input, user_input], outputs=[message_input, chatbot])\n"
   ]
  },
  {
   "cell_type": "code",
   "execution_count": 10,
   "id": "5f1494f5-94b5-4a5f-b233-1fa2768257ad",
   "metadata": {},
   "outputs": [
    {
     "name": "stdout",
     "output_type": "stream",
     "text": [
      "* Running on local URL:  http://127.0.0.1:7861\n",
      "* Running on public URL: https://8de63e43c1eaec5096.gradio.live\n",
      "\n",
      "This share link expires in 72 hours. For free permanent hosting and GPU upgrades, run `gradio deploy` from the terminal in the working directory to deploy to Hugging Face Spaces (https://huggingface.co/spaces)\n"
     ]
    },
    {
     "data": {
      "text/html": [
       "<div><iframe src=\"https://8de63e43c1eaec5096.gradio.live\" width=\"100%\" height=\"500\" allow=\"autoplay; camera; microphone; clipboard-read; clipboard-write;\" frameborder=\"0\" allowfullscreen></iframe></div>"
      ],
      "text/plain": [
       "<IPython.core.display.HTML object>"
      ]
     },
     "metadata": {},
     "output_type": "display_data"
    },
    {
     "data": {
      "text/plain": []
     },
     "execution_count": 10,
     "metadata": {},
     "output_type": "execute_result"
    }
   ],
   "source": [
    "app.launch(share=True)"
   ]
  }
 ],
 "metadata": {
  "kernelspec": {
   "display_name": "Python 3-12 (COMM4190)",
   "language": "python",
   "name": "python3-12_comm4190"
  },
  "language_info": {
   "codemirror_mode": {
    "name": "ipython",
    "version": 3
   },
   "file_extension": ".py",
   "mimetype": "text/x-python",
   "name": "python",
   "nbconvert_exporter": "python",
   "pygments_lexer": "ipython3",
   "version": "3.12.8"
  }
 },
 "nbformat": 4,
 "nbformat_minor": 5
}
