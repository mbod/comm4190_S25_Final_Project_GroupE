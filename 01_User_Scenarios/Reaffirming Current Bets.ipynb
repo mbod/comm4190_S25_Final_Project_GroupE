{
 "cells": [
  {
   "cell_type": "markdown",
   "id": "5307a210-750a-4675-b47d-077746c5e426",
   "metadata": {},
   "source": [
    "# Scenario\n",
    "\n",
    "In this scenario, the user is someone who has already decided on bets for the week/day and would like advice or opinions from the LLM. The user may be a newer better or a more experienced better but they have at least some experience betting already."
   ]
  },
  {
   "cell_type": "markdown",
   "id": "3a0d544c-f1cc-4770-9b72-877dfa8e45b8",
   "metadata": {},
   "source": [
    "# LLM Response\n",
    "\n",
    "The user will input their current bets for the week/day, and the LLM will advise the user on their bets. This can be a) an analysis on how likely the bets are to hit, b) a suggestion on how their current bets can be improved, or c) an additive bet to their parlay that could improve earnings. Generally, this advice can be catered to the specific user who inputted bets and reflects what they want to know about their current bets."
   ]
  },
  {
   "cell_type": "markdown",
   "id": "8c3327b9-9a10-4e21-8bab-6375fdcbefa1",
   "metadata": {},
   "source": [
    "## Scenario 3: Reaffirming Current Bets\n",
    "\n",
    "**User Profile:**  \n",
    "Jordan is a semi-experienced bettor who already has bets lined up for today’s NBA games. They’re not looking to build a new strategy, but instead want ProfitPlay to review their current selections and offer validation, insight, or improvements.\n",
    "\n",
    "\n",
    "\n",
    "### Narrative Flow:\n",
    "\n",
    "#### 1. Contextual Opening  \n",
    "The AI assistant (ProfitPlay) recognizes that the user is returning with bets already placed or being considered, and adjusts its tone accordingly:\n",
    "\n",
    "> “Hey Jordan, I see you’ve already locked in some bets for tonight. Let’s take a look and see how they stack up. Want feedback on the risk, a way to optimize, or maybe an extra play to boost your potential payout?”\n",
    "\n",
    "\n",
    "\n",
    "#### 2. Accepting and Parsing User-Submitted Bets  \n",
    "The user pastes or inputs their slate of bets, such as:\n",
    "\n",
    "- Celtics -4.5 vs. Pacers\n",
    "- Devin Booker Over 27.5 points\n",
    "- 3-leg parlay: Knicks ML + Anthony Davis Over 9.5 rebounds + Under 214.5 in Suns/Rockets\n",
    "\n",
    "ProfitPlay parses each bet and offers feedback based on matchup analysis, betting line movement, injury updates, and historical performance.\n",
    "\n",
    "\n",
    "#### 3. Forms of Analysis Based on User Intent  \n",
    "ProfitPlay offers insight in three potential directions, depending on what the user wants:\n",
    "\n",
    "##### a) **Likelihood Analysis**  \n",
    "> “Booker Over 27.5 has about a 62% hit probability based on usage rate, recent games, and the Rockets’ defensive efficiency against guards. Solid prop play.”\n",
    "\n",
    "##### b) **Strategy Improvement Suggestion**  \n",
    "> “The Celtics spread is risky tonight since they’re playing on a back-to-back. You might consider switching to Celtics ML or dropping that leg if you’re using it in a parlay.”\n",
    "\n",
    "##### c) **Additive Bet Suggestion**  \n",
    "> “Want to boost your 3-leg parlay? Consider adding Tyrese Haliburton Over 2.5 threes. He’s cleared that in 7 of his last 10 games, and the payout increase is significant.”\n",
    "\n",
    "Each suggestion includes:\n",
    "- The **calculated probability** of success\n",
    "- The **expected return** on a standard $5–$10 bet\n",
    "- A **reason** grounded in data or betting logic\n",
    "\n",
    "\n",
    "#### 4. Personalization Based on User Experience  \n",
    "ProfitPlay uses previously gathered data (from initial onboarding or follow-up assessments) to tailor how it explains suggestions:\n",
    "\n",
    "- For newer bettors:\n",
    "  > “That parlay looks exciting! Just know that the more legs you add, the harder it is to win—so keep the expectations realistic. Want me to calculate the total hit probability?”\n",
    "\n",
    "- For experienced bettors:\n",
    "  > “Looks like a sharp prop selection with AD’s rebounds. Want a correlation boost? Consider pairing that with Under on total points if you expect a slower-paced game.”\n",
    "\n",
    "\n",
    "### Key Traits of This Interaction:\n",
    "- **User-initiated** session with preselected bets\n",
    "- AI provides **feedback, improvement suggestions, or additive opportunities**\n",
    "- Tone and detail adjust based on **user experience level**\n",
    "- All insights include **probability estimates, rationale, and projected returns**\n",
    "- Promotes thoughtful refinement without undermining user autonomy\n"
   ]
  },
  {
   "cell_type": "markdown",
   "id": "ddc72f84-82bf-42ed-b31a-5cfd6e97c228",
   "metadata": {},
   "source": [
    "<img src=\"Mermaid_Three.png\" width=\"100%\"/>"
   ]
  },
  {
   "cell_type": "markdown",
   "id": "7e1e4cb1-c0b4-4c44-82bc-5f2df0d96536",
   "metadata": {},
   "source": [
    "```mermaid\n",
    "sequenceDiagram\n",
    "    participant A as User (Jordan)\n",
    "    participant B as ProfitPlay (LLM Betting Assistant)\n",
    "\n",
    "    A->>B: Hey, I’ve already locked in a few NBA bets for tonight. Can you check them out?\n",
    "    B->>A: Of course, Jordan. Let’s review what you’ve got and see if we can fine-tune anything. Want feedback, a boost play, or just risk analysis?\n",
    "\n",
    "    A->>B: Here’s what I’ve got: Celtics -4.5 vs. Pacers, Booker Over 27.5 points, and a 3-leg parlay: Knicks ML + AD Over 9.5 rebounds + Under 214.5 Suns/Rockets. I just want general feedback for now.\n",
    "\n",
    "    B->>B: Parses user bets  \n",
    "    B->>B: Pulls matchup data, injury reports, betting line movement\n",
    "\n",
    "    B->>A: Booker Over 27.5 – ~62% hit rate vs. Rockets’ backcourt. High usage lately.  \n",
    "    B->>A: Celtics -4.5 could be risky — they’re on a back-to-back. ML might be safer.  \n",
    "    B->>A: 3-leg parlay looks solid — want to boost it?\n",
    "\n",
    "    A->>B: Sure, what would you add?\n",
    "\n",
    "    B->>A: Consider Tyrese Haliburton Over 2.5 threes — 70% hit rate last 10 games. Adds EV and boosts payout.  \n",
    "    B->>A: $10 on the parlay would return ~$88. Probability of hitting: ~18%\n",
    "\n",
    "    B->>B: Detects semi-experienced user level\n",
    "\n",
    "    B->>A: That rebound prop on AD is sharp — if you’re expecting a slow game, pairing it with the Under creates correlation. Want more plays like that?\n",
    "\n",
    "    A->>B: Yeah, I like the logic behind correlated bets.\n",
    "\n",
    "    B->>A: Perfect. I’ll keep tracking bets like this for your next session. Let me know how it goes, and good luck tonight!\n"
   ]
  }
 ],
 "metadata": {
  "citation-manager": {
   "items": {}
  },
  "kernelspec": {
   "display_name": "Python 3 (ipykernel)",
   "language": "python",
   "name": "python3"
  },
  "language_info": {
   "codemirror_mode": {
    "name": "ipython",
    "version": 3
   },
   "file_extension": ".py",
   "mimetype": "text/x-python",
   "name": "python",
   "nbconvert_exporter": "python",
   "pygments_lexer": "ipython3",
   "version": "3.10.12"
  }
 },
 "nbformat": 4,
 "nbformat_minor": 5
}
