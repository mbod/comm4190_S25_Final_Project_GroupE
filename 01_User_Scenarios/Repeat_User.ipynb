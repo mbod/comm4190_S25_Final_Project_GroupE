{
 "cells": [
  {
   "cell_type": "markdown",
   "id": "b5327548-4d80-467e-bf7b-83277a41619f",
   "metadata": {},
   "source": [
    "# Scenario\n",
    "\n",
    "In this scenario, the user is someone who has interacted with the LLM previously. The user is interested in utilizing previous betting experience and history to determine future betting strategies. The LLM will have access to history of interaction and make decisions based on it."
   ]
  },
  {
   "cell_type": "markdown",
   "id": "3de45f26-5054-4477-ba7c-9d807db241f1",
   "metadata": {},
   "source": [
    "# LLM Response\n",
    "\n",
    "\n",
    "Users should be prompted to give success of previous recommended bets along with how they felt about the bets (do they want to repeat strategies, do something different etc). LLM should have access to previous suggestions and draw from those suggestions when recommending and changing betting advice. The prompting should stay consistent with the experience level of the user which would have been asked during their first time use. If someone starts out as a first time better, after using for a period of time reprompt them to ask if they feel more experienced."
   ]
  },
  {
   "cell_type": "markdown",
   "id": "85d1cd5d-7b06-4fe9-be1f-bc288abe7c36",
   "metadata": {},
   "source": [
    "## Scenario 4: Repeat User Returning for Updated Betting Advice\n",
    "\n",
    "**User Profile:**  \n",
    "Ryan has used ProfitPlay multiple times over the past few weeks. He originally started out as a beginner but now feels more comfortable with NBA betting. He’s looking to reflect on his previous bets and improve his betting strategy going forward.\n",
    "\n",
    "\n",
    "\n",
    "### Narrative Flow:\n",
    "\n",
    "#### 1. Personalized Re-Introduction  \n",
    "The AI assistant (ProfitPlay) recognizes the user and initiates a session based on past interactions:\n",
    "\n",
    "> “Welcome back, Ryan! I’ve pulled up your recent betting history so we can evaluate what worked well and what didn’t. Ready to review your last few bets and refine the strategy?”\n",
    "\n",
    "\n",
    "#### 2. Prompting for Feedback on Past Bets  \n",
    "ProfitPlay prompts the user to reflect on their previous bets—both in terms of performance and personal satisfaction:\n",
    "\n",
    "> “How did your recent bets turn out? Were they successful?”  \n",
    "> “How did you feel about the bets you placed—do you want to stick with a similar strategy or switch things up?”\n",
    "\n",
    "The LLM expects and uses two forms of feedback:\n",
    "- **Objective results** (win/loss, profit/loss)\n",
    "- **Subjective preference** (comfort level, satisfaction, risk tolerance)\n",
    "\n",
    "\n",
    "\n",
    "#### 3. Drawing from Past Recommendations  \n",
    "The assistant accesses past betting history and integrates that data into its analysis:\n",
    "\n",
    "> “Last week, you followed a two-leg parlay strategy with a mix of player props and a spread. One leg hit, but the parlay didn’t cash. Based on that, I’ve identified some more consistent single-leg props you might like—or we can tweak the parlay style if you’re still interested.”\n",
    "\n",
    "The assistant learns over time and adjusts strategy suggestions accordingly:\n",
    "- If the user had success with a certain type of bet (e.g., totals, underdog spreads), those bets are prioritized.\n",
    "- If the user expresses frustration with previous picks, alternative options with different risk profiles are offered.\n",
    "\n",
    "\n",
    "\n",
    "#### 4. Updating User Experience Level  \n",
    "If the user originally started as a beginner, ProfitPlay periodically checks in to reassess their comfort level:\n",
    "\n",
    "> “It looks like you’ve been betting pretty consistently. Would you consider yourself more experienced now?  \n",
    "> I can start offering slightly more advanced strategies and breakdowns if you're interested.”\n",
    "\n",
    "This helps keep recommendations aligned with the user’s actual skill level and keeps the interaction dynamic.\n",
    "\n",
    "\n",
    "\n",
    "#### 5. Making New Recommendations  \n",
    "After reflecting and updating preferences, ProfitPlay provides tailored new suggestions:\n",
    "\n",
    "- A mix of **lock**, **risk**, or **parlay** options, depending on Ryan’s updated goals.\n",
    "- Includes calculated probability of success and expected return.\n",
    "- Clear reasoning is always provided to reinforce learning and confidence.\n",
    "\n",
    "> “Based on your feedback, here’s a **lock** for tonight: Celtics moneyline vs. the Magic.  \n",
    "> They’re on a 5-game home win streak and the Magic are missing key starters. A $10 bet returns $4.20 in profit.”\n",
    "\n",
    "\n",
    "\n",
    "### Key Traits of This Interaction:\n",
    "- Uses **past interactions and outcomes** to guide future bets\n",
    "- Prompts user for **objective and subjective feedback**\n",
    "- Dynamically adjusts recommendations based on historical patterns\n",
    "- Periodically **reassesses user experience level**\n",
    "- Encourages **continuous learning and engagement**\n",
    "- Keeps prompting **consistent with user’s original onboarding**, but evolves over time\n"
   ]
  },
  {
   "cell_type": "markdown",
   "id": "da52fc3f-6cdb-43a5-90c2-df7052d28b48",
   "metadata": {},
   "source": [
    "<img src=\"Mermaid_Repeat_User.png\" width=\"100%\"/>"
   ]
  },
  {
   "cell_type": "markdown",
   "id": "468675c9-ebd5-4b49-acc7-a6211f2cba4c",
   "metadata": {},
   "source": [
    "```mermaid\n",
    "sequenceDiagram\n",
    "    participant A as User (Return User)\n",
    "    participant B as ProfitPlay (LLM Betting Assistant)\n",
    "\n",
    "    A->>B: Hey, I’m back. Looking for new picks tonight.\n",
    "    B->>A: Welcome back, Ryan! I’ve pulled up your recent betting history so we can evaluate what worked well and what didn’t. Ready to review?\n",
    "\n",
    "    B->>A: How did your recent bets turn out? Did they hit?\n",
    "    B->>A: And how did you feel about them — want to keep the same strategy or mix it up?\n",
    "\n",
    "    A->>B: I lost my last parlay but felt good about one of the player props.\n",
    "    B->>A: Got it — one leg of your parlay hit, the other missed. That’s useful.\n",
    "\n",
    "    B->>B: Accesses past bet history → Highlights successful prop bets  \n",
    "    B->>B: Flags parlay strategy as lower ROI in recent bets  \n",
    "\n",
    "    B->>A: Since you had success with player props, I’ll prioritize consistent single-leg picks today. Want to try a lower-risk parlay too?\n",
    "\n",
    "    A->>B: Yeah, let’s do that — also open to some higher EV picks.\n",
    "\n",
    "    B->>A: Looks like you’ve been betting regularly — would you consider yourself more experienced now?\n",
    "    A->>B: Definitely. I’m getting the hang of it.\n",
    "\n",
    "    B->>B: Adjusts recommendation complexity → More advanced bets unlocked  \n",
    "\n",
    "    B->>A: Based on your feedback, here’s a lock: Celtics moneyline vs. Magic.  \n",
    "    B->>A: Also a risk pick: Jimmy Butler Over 35.5 PRA — high usage in playoffs.  \n",
    "    B->>A: Want a simple 2-leg parlay using those?\n",
    "\n",
    "    A->>B: Yes, let’s do that. Show me the return on a $10 bet.\n",
    "    B->>A: $10 on the parlay would return $26.80 if both legs hit. Probability: ~44%.  \n",
    "\n",
    "    B->>A: Want to track these bets for next time?\n",
    "    A->>B: Yep. Thanks again!\n",
    "\n",
    "    B->>A: You got it — I’ll be ready with updated picks based on tonight’s results. Good luck!"
   ]
  }
 ],
 "metadata": {
  "citation-manager": {
   "items": {}
  },
  "kernelspec": {
   "display_name": "Python 3 (ipykernel)",
   "language": "python",
   "name": "python3"
  },
  "language_info": {
   "codemirror_mode": {
    "name": "ipython",
    "version": 3
   },
   "file_extension": ".py",
   "mimetype": "text/x-python",
   "name": "python",
   "nbconvert_exporter": "python",
   "pygments_lexer": "ipython3",
   "version": "3.10.12"
  }
 },
 "nbformat": 4,
 "nbformat_minor": 5
}
