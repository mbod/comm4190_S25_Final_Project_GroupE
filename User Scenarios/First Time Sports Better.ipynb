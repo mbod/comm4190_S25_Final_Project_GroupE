{
 "cells": [
  {
   "cell_type": "markdown",
   "id": "bac260f7-15d8-4440-a683-a58bfe8bf32f",
   "metadata": {},
   "source": [
    "# Scenario\n",
    "\n",
    "In this scenario, the user is a first time sports better using the our tool for the first time. Due of the user's lack of experience, the LLM will pose simple questions and walk the user slowly through each step in the sports betting process."
   ]
  },
  {
   "cell_type": "markdown",
   "id": "c5e3ce7b-2c6d-431c-ab81-c69bbedce030",
   "metadata": {},
   "source": [
    "# LLM Response\n",
    "\n",
    "The LLM will introduce itself and explain to the user the different options for advice on maming bets. The LLM will also walk through basic strategies and provide simpler explanations for reasons behind bets (avoiding confusing language). The LLM will provide suggestions for more simple bets with more easily explained bet strategies. There will be more autonomy in the suggestions of the LLM and will make decisions without prompting for too many specific details."
   ]
  },
  {
   "cell_type": "markdown",
   "id": "c99c44b5-bc24-45bc-a1f3-5ed9f5f71709",
   "metadata": {},
   "source": [
    "## Scenario 1: First-Time Sports Bettor Using the Tool\n",
    "\n",
    "**User Profile:**  \n",
    "Alex is a college student who has never placed a sports bet before. They're curious about NBA betting and have decided to try ProfitPlay for their first experience. They aren’t sure where to start and feel overwhelmed by all the betting terminology.\n",
    "\n",
    "\n",
    "\n",
    "### Narrative Flow:\n",
    "\n",
    "#### 1. Introduction & Onboarding  \n",
    "The AI assistant (**ProfitPlay**) introduces itself in a friendly and supportive tone:\n",
    "\n",
    "> “Hey Alex, I’m ProfitPlay—your personal NBA betting assistant, built just for DraftKings. Since it’s your first time betting, I’ll walk you through everything step-by-step and keep it simple. Let’s make this a fun and stress-free intro to sports betting.”\n",
    "\n",
    "\n",
    "\n",
    "#### 2. Clarifying the User’s Experience and Goals  \n",
    "Instead of asking multiple technical questions, ProfitPlay keeps the conversation light and focused:\n",
    "- “Is this your first time placing a bet?”\n",
    "- “Are you just looking to try something fun today, or are you interested in learning more about how betting works?”\n",
    "\n",
    "\n",
    "\n",
    "#### 3. Explaining the Options Simply  \n",
    "The AI briefly explains common types of bets in plain English:\n",
    "\n",
    "> “There are a few basic types of bets we can make. For example:\n",
    "> - A **moneyline bet** is just picking which team will win the game.\n",
    "> - A **spread bet** means picking a team to win by a certain number of points.\n",
    "> - A **player prop** is a bet on how well a player performs—like how many points they’ll score.”\n",
    "\n",
    "ProfitPlay doesn’t overload Alex with options and instead suggests starting with one or two easy choices.\n",
    "\n",
    "\n",
    "#### 4. Making the First Recommendation (with Simple Justification)  \n",
    "The AI makes a confident suggestion without needing much input:\n",
    "\n",
    "> “Let’s start simple. I recommend placing a moneyline bet on the Knicks to beat the Hornets tonight. They’ve been solid at home and the Hornets are missing their top scorer.  \n",
    "> If you bet $5 and the Knicks win, you’ll make about $4 in profit. It’s a low-risk way to get started.”\n",
    "\n",
    "All recommendations are labeled clearly—e.g., this would be marked as a **“lock”** with a basic explanation of what that means:\n",
    "\n",
    "> “We call this a **lock**—a safe, high-confidence pick that’s perfect for beginners.”\n",
    "\n",
    "\n",
    "\n",
    "#### 5. Encouraging Learning and Exploration  \n",
    "After the first suggestion, ProfitPlay invites Alex to explore more:\n",
    "\n",
    "> “Want to try another simple bet or maybe learn how a parlay works? I’ll keep it easy and guide you.”\n",
    "\n",
    "\n",
    "\n",
    "#### 6. Fewer Prompts, More Autonomy  \n",
    "Since Alex is new, the AI avoids asking about bankroll size, risk tolerance, or bet types. Instead, it takes the lead in choosing bets with low complexity and high clarity, providing just enough information to make Alex feel confident.\n",
    "\n",
    "\n",
    "\n",
    "### Key Traits of This Interaction:\n",
    "- Language is **clear**, **non-technical**, and **encouraging**\n",
    "- The AI makes **autonomous decisions** while explaining reasoning simply\n",
    "- **Fewer prompts**, more guidance\n",
    "- Explanations are focused on building **confidence** and **basic understanding**\n",
    "- All bets are categorized with **labels** (lock, risk, parlay) and clear outcomes\n"
   ]
  },
  {
   "cell_type": "markdown",
   "id": "d96f57e9-abe6-4744-bc0f-e869f154febb",
   "metadata": {},
   "source": [
    "```mermaid\n",
    "sequenceDiagram\n",
    "    participant A as User (Beginner)\n",
    "    participant B as ProfitPlay (LLM Betting Assistant)\n",
    "\n",
    "    B->>A: Welcome! I’m your NBA betting advisor here to help you get started easily.\n",
    "    B->>A: First, is this your first time betting?\n",
    "    \n",
    "    A->>B: Yes, first time. \n",
    "\n",
    "    B->>A: Great! I’ll suggest simple bets today and explain each one clearly — no jargon.\n",
    "    B->>A: There are three types of bets I’ll recommend: Lock (safe), Risk (higher reward), and Parlay (multi-leg combo).\n",
    "\n",
    "    A->>B: Could you give me solid bets in each of the categories?\n",
    "\n",
    "    B->>A: For tonight’s games, a Lock would be: Team A to win (moneyline). \n",
    "    B->>A: This means you're just betting on them to win — no point spread involved.\n",
    "    \n",
    "    B->>A: A Risk option could be: Player X to score over 20 points. \n",
    "    B->>A: It’s a bit more uncertain, but the payout is better if it hits.\n",
    "\n",
    "    B->>A: Lastly, here’s a simple Parlay: Team A moneyline + Player X over 20 points. \n",
    "    B->>A: This boosts the payout by combining two outcomes, but both must hit to win.\n",
    "\n",
    "    A->>B: That makes sense. How much should I bet on each?\n",
    "    B->>A: Great question. I suggest $5 on the Lock (low risk), $3 on the Risk, and $2 on the Parlay.\n",
    "    B->>A: That way, you balance safety and upside while learning how it works.\n",
    "\n",
    "    A->>B: Thanks! I’ll try those. Can you help track these later?\n",
    "    B->>A: Absolutely! When you return, we’ll review how they did and adjust your strategy.\n",
    "\n",
    "    A->>B: This was super helpful, I actually feel confident now.\n",
    "    B->>A: I’ve got your back. Come back anytime for fresh bets and tips — good luck tonight!"
   ]
  },
  {
   "cell_type": "code",
   "execution_count": null,
   "id": "c67c75e6-58f6-4c4a-9dd1-ea1760a75cf6",
   "metadata": {},
   "outputs": [],
   "source": []
  }
 ],
 "metadata": {
  "citation-manager": {
   "items": {}
  },
  "kernelspec": {
   "display_name": "Python 3 (ipykernel)",
   "language": "python",
   "name": "python3"
  },
  "language_info": {
   "codemirror_mode": {
    "name": "ipython",
    "version": 3
   },
   "file_extension": ".py",
   "mimetype": "text/x-python",
   "name": "python",
   "nbconvert_exporter": "python",
   "pygments_lexer": "ipython3",
   "version": "3.10.12"
  }
 },
 "nbformat": 4,
 "nbformat_minor": 5
}
