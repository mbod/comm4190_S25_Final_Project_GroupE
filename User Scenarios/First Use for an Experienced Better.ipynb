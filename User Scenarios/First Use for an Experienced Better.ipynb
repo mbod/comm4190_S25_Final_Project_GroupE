{
 "cells": [
  {
   "cell_type": "markdown",
   "id": "8e9ba541-721d-4ccd-86fd-d35e213fc17e",
   "metadata": {},
   "source": [
    "# Scenario\n",
    "\n",
    "In this scenario, the user is an experienced better who is using our tool for the first time."
   ]
  },
  {
   "cell_type": "markdown",
   "id": "29562769-269d-4c24-8b51-fb9052220c6c",
   "metadata": {},
   "source": [
    "# LLM Response\n",
    "\n",
    "LLM will use language that an experienced better would be familiar with. More complex betting strategies, prompting the user to give input on preferences, desired strategies, desired winnings/risk. LLM may prompt user to modify their suggestion based on expert knowledge."
   ]
  },
  {
   "cell_type": "markdown",
   "id": "8baf8440-c9a5-40b8-aa48-a38c262c838a",
   "metadata": {},
   "source": [
    "## Scenario 2: First-Time Use by an Experienced Bettor\n",
    "\n",
    "**User Profile:**  \n",
    "Sam is a seasoned NBA bettor with a deep understanding of spreads, props, totals, and parlays. This is their first time using ProfitPlay, and they’re looking for a sharp, data-informed assistant that can keep up with their strategy-first mindset and risk-oriented approach.\n",
    "\n",
    "\n",
    "### Narrative Flow:\n",
    "\n",
    "#### 1. Confident, Professional Introduction  \n",
    "The AI assistant (ProfitPlay) introduces itself with advanced users in mind—clear, direct, and fluent in betting language:\n",
    "\n",
    "> “Hey Sam, welcome to ProfitPlay—your personalized NBA betting assistant built for DraftKings. I’ll help you identify high-EV plays, optimize your strategy, and break down bets with real-time data. Let’s dial in.”\n",
    "\n",
    "\n",
    "#### 2. Targeted Experience Assessment  \n",
    "Since Sam is not a beginner, the LLM skips basic explanations and instead gathers detailed information to personalize the experience:\n",
    "\n",
    "> “Before we get started, help me get a read on your betting style:  \n",
    "> - What types of bets do you typically focus on? (e.g., player props, correlated parlays, alt lines, totals)  \n",
    "> - What’s your risk tolerance—steady ROI or high-upside swings?  \n",
    "> - Any bankroll target or specific profit goals for tonight or this week?”\n",
    "\n",
    "This input informs how recommendations will be framed—whether to focus on expected value, volatility, or stacking value across correlated picks.\n",
    "\n",
    "\n",
    "#### 3. Offering Complex Strategy and Input-Based Customization  \n",
    "ProfitPlay immediately engages the user at a higher level, offering strategic tools and inviting collaboration:\n",
    "\n",
    "> “Looking to build around player correlations, hedge exposure, or exploit inefficiencies on alternate lines?  \n",
    "> Give me a sense of how aggressive you want to be tonight—and if you’ve already got angles you’re targeting, I can layer in matchup data and betting line shifts to sharpen the edge.”\n",
    "\n",
    "\n",
    "#### 4. Suggesting High-EV Plays with Strategic Context  \n",
    "Using real-time matchup insights and public betting trends, the LLM provides well-reasoned bets in advanced formats:\n",
    "\n",
    "> **Lock:** “Celtics -3.5 alt spread (-110) vs. Heat — Boston’s ranked top-3 in defensive efficiency and catching Miami on a road back-to-back. The model gives this a 73% hit rate with a solid payout for a single-leg play.”\n",
    "\n",
    "> **Risk:** “SGA Over 31.5 points at +120 — facing a drop-coverage defense that he’s historically shredded. High variance, but +EV if he maintains current usage rate.”\n",
    "\n",
    "> **Parlay Opportunity:** “You mentioned liking prop stacks. Consider:  \n",
    "> - LeBron Over 6.5 assists  \n",
    "> - Lakers ML  \n",
    "> - Game Under 227.5  \n",
    "> Correlated play with about a 19% hit rate and 6.4x payout. Want me to break down the parlay math?”\n",
    "\n",
    "\n",
    "#### 5. Encouraging Tactical Adjustment Based on Expertise  \n",
    "The LLM isn't afraid to challenge or refine user thinking:\n",
    "\n",
    "> “You mentioned leaning heavily on overs tonight, but be aware—several games are projected to run at a slower pace based on historical matchups and injury reports. Want to balance with a contrarian under or hedge with a same-game alt line?”\n",
    "\n",
    "This interaction feels collaborative—like working with a sharp friend who brings smart second opinions.\n",
    "\n",
    "\n",
    "### Key Traits of This Interaction:\n",
    "- Language is **sharp**, **strategic**, and assumes **prior knowledge**\n",
    "- Prompts are **open-ended**, encouraging collaboration on betting strategy\n",
    "- Suggestions are **high-EV** and supported by **data-driven logic**\n",
    "- Assistant tailors bet types and tone to user input and **risk profile**\n",
    "- Bets include **probability estimates, payout projections**, and **strategic context**\n",
    "- LLM may tactfully **challenge assumptions** or **propose adjustments**"
   ]
  },
  {
   "cell_type": "markdown",
   "id": "f57b084a-1c60-4d00-9856-b34933499ed1",
   "metadata": {},
   "source": [
    "```mermaid\n",
    "sequenceDiagram\n",
    "    participant A as User (Sam - Experienced Bettor)\n",
    "    participant B as ProfitPlay (LLM Betting Assistant)\n",
    "\n",
    "    A->>B: First time using this — I bet NBA pretty seriously. Show me something sharp.\n",
    "    B->>A: Hey Sam, welcome to ProfitPlay — your personalized NBA betting assistant built for DraftKings. Let’s dial in and optimize your edge with high-EV plays and real-time data.\n",
    "\n",
    "    B->>A: To customize things could: What types of bets do you focus on? (Props, alt lines, parlays, totals?. What’s your risk profile — steady ROI or big swings? Any profit goals or bankroll cap for tonight?\n",
    "\n",
    "    A->>B: Heavy on props and correlated parlays. $200 cap tonight. Leaning high upside.\n",
    "\n",
    "    B->>B: Flags Sam as high-risk profile, experienced bettor  \n",
    "    B->>B: Filters advanced market angles and alt-line inefficiencies  \n",
    "    B->>B: Analyzes real-time betting shifts, injury impacts, pace trends\n",
    "\n",
    "    B->>A: Lock: Celtics -3.5 alt spread (-110) vs. Heat — 73% model confidence. Strong D edge + back-to-back spot for Miami.  \n",
    "    B->>A: Risk: SGA Over 31.5 pts (+120) — drop coverage, high usage, matchup edge, but volatility baked in.\n",
    "\n",
    "    B->>A: Parlay Stack (correlated): LeBron Over 6.5 assists, Lakers ML, and Under 227.5 total.  Estimated hit rate: 19%, 6.4x payout — want the breakdown?\n",
    "\n",
    "    A->>B: Yep, show the expected value math on that.\n",
    "\n",
    "    B->>A: On a $25 bet, payout is $160. With 19% hit probability, EV ≈ $5.35. Correlated legs increase upside but compress probability.\n",
    "\n",
    "    A->>B: I like it — but I’ve been leaning toward overs tonight. Thoughts?\n",
    "\n",
    "    B->>A: Several of tonight’s matchups project slower pace due to injuries + past data. Could hedge with a same-game under or alt line for balance. Want to layer one in?\n",
    "\n",
    "    A->>B: Let’s do that — plug in a counterweight bet.\n",
    "\n",
    "    B->>A: Added: Bulls/Knicks Under 219.5 — pace, defensive efficiency trends, 64% model hit rate. Let’s track all 5 tonight and refine off results.\n",
    "\n",
    "    A->>B: Solid. Looking forward to where this goes.\n"
   ]
  }
 ],
 "metadata": {
  "citation-manager": {
   "items": {}
  },
  "kernelspec": {
   "display_name": "Python 3 (ipykernel)",
   "language": "python",
   "name": "python3"
  },
  "language_info": {
   "codemirror_mode": {
    "name": "ipython",
    "version": 3
   },
   "file_extension": ".py",
   "mimetype": "text/x-python",
   "name": "python",
   "nbconvert_exporter": "python",
   "pygments_lexer": "ipython3",
   "version": "3.10.12"
  }
 },
 "nbformat": 4,
 "nbformat_minor": 5
}
