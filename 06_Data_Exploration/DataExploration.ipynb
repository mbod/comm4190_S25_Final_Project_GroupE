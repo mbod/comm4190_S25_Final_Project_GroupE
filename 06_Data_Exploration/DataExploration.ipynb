{
 "cells": [
  {
   "cell_type": "markdown",
   "id": "111ab881-44aa-49b1-90bb-b99d70894166",
   "metadata": {},
   "source": [
    "# Introduction\n",
    "\n",
    "This report will be a quantitative evaluation of ProfitPlays. It will contain two sections: a comparison between ProfitPlays (our model) and SportsBetting (a rival model), as well as an analysis of the tiering of ProfitPlays. For some context, I have tracked 50 bets for ProfitPlays and SportsBetting (the CSV files for both can be found in 04_Bet_Results) along with the hit rate, risk classification, and profit. Their outcomes were evaluated using hit rates and total profit as the primary performance metrics. This study aims to determine which model was more successful and whether the differences observed are statistically significant.\n",
    "\n",
    "Importantly, due to the relatively small sample size of 50 bets per model, a more lenient significance threshold (alpha = 0.10) was adopted throughout the analysis. This approach is commonly used in exploratory research settings where Type II errors (failing to detect a true effect) are of greater concern than Type I errors (detecting a false effect). Since this model is relatively new/experimental, I believe this project falls under the exploratory research classification."
   ]
  },
  {
   "cell_type": "markdown",
   "id": "6d962811-cd06-473c-a83d-80e54633c2f9",
   "metadata": {},
   "source": [
    "# Hit Rate Comparison: ProfitPlays vs. SportsBetting\n",
    "\n",
    "**Hit Summary**\n",
    "\n",
    "Out of 50 bets, ProfitPlays had a total of 28 hits, resulting in a hit rate of 56%. SportsBetting recorded 21 hits, yielding a 42% hit rate. This means that ProfitPlays demonstrated a higher hit rate than SportsBetting across the sample.\n",
    "\n",
    "<img src=\"Hit Rate Comparison.png\" width=\"50%\"/>\n",
    "\n",
    "**Statistical Significance**\n",
    "\n",
    "A two-proportion z-test was used to assess whether the difference in hit rate was statistically significant. This test is appropriate for comparing proportions between two groups (in this case, success rates or \"hit rates\"). The yielded values are below:\n",
    "\n",
    "p-value = 0.23\n",
    "\n",
    "Confidence interval (95%): [-0.074, 0.354]\n",
    "\n",
    "Since the p-value of 0.23 exceeds our alpha level of 0.10, the result is not statistically significant. We cannot confidently say that ProfitPlays is superior in hit rate based on this sample."
   ]
  },
  {
   "cell_type": "markdown",
   "id": "1e294f81-918d-4d58-8538-250e48db12be",
   "metadata": {},
   "source": [
    "# Profit Comparison: ProfitPlays vs. SportsBetting\n",
    "\n",
    "**Profit Summary**\n",
    "\n",
    "ProfitPlays generated a total profit of $147.21, resulting in an average profit of $2.94 per bet. In contrast, SportsBetting incurred a total loss of $80.31, averaging -$1.61 per bet. This highlights a notable financial advantage for ProfitPlays in the sample.\n",
    "\n",
    "<img src=\"Profit Comparison.png\" width=\"50%\"/>\n",
    "\n",
    "**Statistical Significance**\n",
    "\n",
    "To evaluate the difference in average profits, a Welch Two-Sample t-test was used. A two-sample t-test is appropriate when comparing the means of a continuous variable (profit) between two groups. The Welch version is used when variances are unequal, which can often be the case in real-world betting outcomes. Below are the resulting values:\n",
    "\n",
    "p-value = 0.0699\n",
    "\n",
    "Confidence interval (95%): [-0.38, 9.48]\n",
    "\n",
    "T-statistic: 1.83\n",
    "\n",
    "Given that the p-value of 0.0699 is above our chosen alpha level of 0.10, this result is statistically significant, meaning ProfitPlays' average profit is significantly greater than that of SportsBetting. The fact that the hit rate difference was not statistically significant, but the profit difference was, can give us a great insight into model comparison. I think there are two key reasons that this result could have occurred. The first is that ProfitPlays will suggest different wagering based on how likely a bet is to hit and balance the bankroll for the night based on EV. This is a direct contrast to SportsBetting, which will just give you the bets, but not say how to allocate your funds to each bet. The second is that ProfitPlays will categorize bets into different tiers (Risk and Lock) and hedge these probabilities against each other. This can potentially lead to more statistically successful outcomes for profit, but not the quantity of bets hit."
   ]
  },
  {
   "cell_type": "markdown",
   "id": "d82e175d-1bf8-4fa4-b09c-d64ac5829681",
   "metadata": {},
   "source": [
    "# Hit Rate Breakdown: Lock vs. Risk vs. Parlay (ProfitPlays Only)\n",
    "\n",
    "**Hit Summary**\n",
    "\n",
    "Out of the 50 bets placed by ProfitPlays, there were 20 Lock bets, 22 Risk bets, and 8 Parlay bets. Among these, 13 Lock bets hit (65%), 13 Risk bets hit (59.1%), and 2 Parlay bets hit (25%). Notably, Lock bets had only a slightly higher hit rate than Risk bets, despite being categorized as lower-risk by ProfitPlays. The Parlay hit rate makes sense, as parlays are a lot less likely to hit due to the compounding improbabilities of multiple legs. \n",
    "\n",
    "<img src=\"Risk Tier Hit Differential.png\" width=\"50%\"/>\n",
    "\n",
    "**Statistical Significance**\n",
    "\n",
    "A Fisher’s Exact Test was used instead of a chi-squared test due to low expected counts (especially in the Parlay category). This test is preferred when sample sizes are small or when expected frequencies in contingency table cells fall below 5 (both of which are true in this case), as it calculates an exact p-value, ensuring more accurate inference in small-data scenarios. The test yielded the following result:\n",
    "\n",
    "p-value = 0.203\n",
    "\n",
    "This test result suggests no statistically significant association between risk level and hit outcome, as the p-value of 0.203 is far above the alpha of 0.10. This means that there is not enough evidence to prove that the distinctions in risk level that ProfitPlays produces are statistically significant."
   ]
  },
  {
   "cell_type": "markdown",
   "id": "fb2caa40-b6d4-4d80-b97e-4d47ef00a9f7",
   "metadata": {},
   "source": [
    "# Profit Comparison: Lock vs. Risk vs. Parlay (ProfitPlays Only)\n",
    "\n",
    "**Profit Summary**\n",
    "\n",
    "In terms of total profit by risk tier, Lock bets generated a profit of $34.52, Risk bets yielded $90.79, and Parlay bets returned $17.00. These figures reflect that Risk bets contributed the highest proportion of overall profit, followed by Lock and then Parlay. This means that even though Risk bets had slightly lower hit rates, they had significantly more profit than Lock bets. This makes sense as Risk bets from ProfitPlays have higher margins that can lead to higher profits. From a blind eye, ProfitPlays Risk bets seem ideal for consistent Profit generation as they have much higher profit options with similar hit rates.  \n",
    "\n",
    "<img src=\"Risk Tier Profit.png\" width=\"50%\"/>\n",
    "\n",
    "**Statistical Significance**\n",
    "\n",
    "Because we are comparing mean profit across three groups (Lock, Risk, and Parlay), a one-way ANOVA was used. This method is more reliable than running multiple t-tests, as it controls for inflated Type I error and evaluates overall group mean differences. It resulted in the following:\n",
    "\n",
    "p-value = 0.836\n",
    "\n",
    "The result is not statistically significant as the p-value of 0.835 is above the alpha of 0.10, indicating no reliable difference in profit by bet type. This means that the analysis done in the profit summary, while intuitive, can not be considered without some skepticisim."
   ]
  },
  {
   "cell_type": "markdown",
   "id": "32c09e7a-60b1-4044-a05e-700186a165fb",
   "metadata": {},
   "source": [
    "# Limitations\n",
    "\n",
    "This analysis, while informative, is constrained by a relatively small sample size (n = 50 bets per model), which inherently limits the statistical power and generalizability of the results. Small sample sizes increase the likelihood of Type II errors (failing to detect real differences when they exist), reduce the effectiveness of statistical inference, and necessitate the use of more lenient significance thresholds (e.g., α = 0.10) to detect potentially meaningful patterns. As a result, any findings should be viewed as exploratory rather than definitive.\n",
    "\n",
    "Additionally, this study, while based on real data, does not explicitly control for the odds assigned to each bet, variations in stake sizing, or potential correlations between the outcomes of bets. These factors can significantly influence betting outcomes and are important considerations in a more granular profitability analysis. Future iterations could incorporate these layers to better reflect the complexity of real-world betting scenarios and improve the precision of comparative model evaluations.\n",
    "\n",
    "# Final Thoughts\n",
    "\n",
    "This comparative analysis demonstrates that while ProfitPlays and SportsBetting did not show a statistically significant difference in hit rate, there was a significant difference in average profit per bet. This suggests that for users focused on profitability, ProfitPlays presents a more compelling option. The disparity in financial performance likely stems from ProfitPlays' bankroll allocation and risk-weighted staking strategies, which enable it to extract more value from successful predictions even when hit rates are comparable.\n",
    "\n",
    "When analyzing the internal tiering system of ProfitPlays, no statistically significant differences in hit rate or profit were observed across Lock, Risk, and Parlay categories. However, descriptive data showed that Lock and Risk bets achieved higher success rates and collectively contributed the majority of total profit, whereas Parlay bets significantly underperformed. Specifically, Lock and Risk hit rates were 65% and 59.1% respectively, compared to just 25% for Parlays. Similarly, Risk nets returned $90.79 in profit, far outpacing the $34.52 and $17.00 yielded by Lock and Parlay bets. These patterns, while not statistically conclusive, suggest that ProfitPlays’ tiering system aligns well with actual betting performance and may guide more strategic wagering."
   ]
  },
  {
   "cell_type": "code",
   "execution_count": null,
   "id": "ea159a34-cb15-430d-a30f-a908cdfd5085",
   "metadata": {},
   "outputs": [],
   "source": []
  }
 ],
 "metadata": {
  "kernelspec": {
   "display_name": "Python 3-12 (COMM4190)",
   "language": "python",
   "name": "python3-12_comm4190"
  },
  "language_info": {
   "codemirror_mode": {
    "name": "ipython",
    "version": 3
   },
   "file_extension": ".py",
   "mimetype": "text/x-python",
   "name": "python",
   "nbconvert_exporter": "python",
   "pygments_lexer": "ipython3",
   "version": "3.12.8"
  }
 },
 "nbformat": 4,
 "nbformat_minor": 5
}
